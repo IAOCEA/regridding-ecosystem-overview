{
 "cells": [
  {
   "cell_type": "markdown",
   "id": "0",
   "metadata": {},
   "source": [
    "# Using `uxarray` to regrid"
   ]
  },
  {
   "cell_type": "code",
   "execution_count": null,
   "id": "1",
   "metadata": {},
   "outputs": [],
   "source": [
    "import astropy.coordinates\n",
    "import cartopy.crs as ccrs\n",
    "import cdshealpix\n",
    "import cf_xarray  # noqa: F401\n",
    "import matplotlib.pyplot as plt\n",
    "import numpy as np\n",
    "import odc.geo\n",
    "import odc.geo.xr  # noqa: F401\n",
    "import pystac_client\n",
    "import uxarray as ux\n",
    "import xarray as xr\n",
    "import xdggs  # noqa: F401\n",
    "\n",
    "xr.set_options(keep_attrs=True)"
   ]
  },
  {
   "cell_type": "code",
   "execution_count": null,
   "id": "2",
   "metadata": {},
   "outputs": [],
   "source": [
    "from distributed import Client\n",
    "\n",
    "client = Client()\n",
    "client"
   ]
  },
  {
   "cell_type": "markdown",
   "id": "3",
   "metadata": {},
   "source": [
    "## satellite data"
   ]
  },
  {
   "cell_type": "code",
   "execution_count": null,
   "id": "4",
   "metadata": {},
   "outputs": [],
   "source": [
    "client = pystac_client.Client.open(\"https://stac.core.eopf.eodc.eu\")\n",
    "client"
   ]
  },
  {
   "cell_type": "code",
   "execution_count": null,
   "id": "5",
   "metadata": {},
   "outputs": [],
   "source": [
    "bbox = [-40, -40, 40, 40]\n",
    "items = client.search(\n",
    "    collections=[\"sentinel-2-l2a\"],\n",
    "    max_items=4,\n",
    "    bbox=bbox,\n",
    "    ids=[\"S2B_MSIL2A_20250424T100029_N0511_R122_T32SPJ_20250424T124939\"],\n",
    ").item_collection()\n",
    "items"
   ]
  },
  {
   "cell_type": "code",
   "execution_count": null,
   "id": "6",
   "metadata": {},
   "outputs": [],
   "source": [
    "item = items[0]\n",
    "item"
   ]
  },
  {
   "cell_type": "code",
   "execution_count": null,
   "id": "7",
   "metadata": {},
   "outputs": [],
   "source": [
    "ds = xr.open_dataset(\n",
    "    item.assets[\"product\"],\n",
    "    engine=\"stac\",\n",
    "    chunks={},\n",
    "    group=\"measurements/reflectance/r60m\",\n",
    ").pipe(lambda ds: ds.odc.assign_crs(ds[\"b01\"].attrs[\"proj:wkt2\"]))\n",
    "ds"
   ]
  },
  {
   "cell_type": "code",
   "execution_count": null,
   "id": "8",
   "metadata": {},
   "outputs": [],
   "source": [
    "ds[\"b01\"].squeeze().compute().odc.explore()"
   ]
  },
  {
   "cell_type": "code",
   "execution_count": null,
   "id": "9",
   "metadata": {},
   "outputs": [],
   "source": [
    "reprojected = ds.odc.reproject(\"epsg:4326\").assign_coords(\n",
    "    longitude=lambda ds: ds[\"longitude\"].assign_attrs({\"standard_name\": \"longitude\"}),\n",
    "    latitude=lambda ds: ds[\"latitude\"].assign_attrs({\"standard_name\": \"latitude\"}),\n",
    ")\n",
    "reprojected"
   ]
  },
  {
   "cell_type": "code",
   "execution_count": null,
   "id": "10",
   "metadata": {},
   "outputs": [],
   "source": [
    "input_grid = ux.UxDataset.from_structured(reprojected)\n",
    "input_grid.to_xarray()"
   ]
  },
  {
   "cell_type": "code",
   "execution_count": null,
   "id": "11",
   "metadata": {},
   "outputs": [],
   "source": [
    "arr = input_grid[\"b01\"]\n",
    "arr.to_xarray()"
   ]
  },
  {
   "cell_type": "code",
   "execution_count": null,
   "id": "12",
   "metadata": {},
   "outputs": [],
   "source": [
    "level = 15\n",
    "geom = reprojected.odc.geobox.extent\n",
    "lon = astropy.coordinates.Longitude(geom.exterior.xy[0], unit=\"degree\")\n",
    "lat = astropy.coordinates.Latitude(geom.exterior.xy[1], unit=\"degree\")\n",
    "cell_ids, _, _ = cdshealpix.nested.polygon_search(lon, lat, depth=level, flat=True)"
   ]
  },
  {
   "cell_type": "code",
   "execution_count": null,
   "id": "13",
   "metadata": {},
   "outputs": [],
   "source": [
    "target_grid = xr.Dataset(coords={\"cell_ids\": (\"cells\", cell_ids)}).dggs.decode(\n",
    "    {\"grid_name\": \"healpix\", \"level\": level, \"indexing_scheme\": \"nested\"}\n",
    ")\n",
    "target_grid"
   ]
  },
  {
   "cell_type": "code",
   "execution_count": null,
   "id": "14",
   "metadata": {},
   "outputs": [],
   "source": [
    "def grid_from_xdggs(ds):\n",
    "    return (\n",
    "        ds.dggs.assign_latlon_coords()\n",
    "        .rename_dims({\"cells\": \"n_face\"})\n",
    "        .rename_vars({\"latitude\": \"face_lat\", \"longitude\": \"face_lon\"})\n",
    "        .assign_attrs(\n",
    "            {\n",
    "                \"zoom\": ds.dggs.grid_info.level,\n",
    "                \"n_side\": ds.dggs.grid_info.nside,\n",
    "                \"n_pix\": target_grid.sizes[\"cells\"],\n",
    "                \"nest\": ds.dggs.grid_info.nest,\n",
    "            }\n",
    "        )\n",
    "        .assign_coords(\n",
    "            grid_topology=(\n",
    "                (),\n",
    "                -1,\n",
    "                {\n",
    "                    \"topology_dimension\": 2,\n",
    "                    \"face_dimension\": \"n_face\",\n",
    "                    \"node_dimension\": \"n_node\",\n",
    "                    \"node_coordinates\": \"node_lon node_lat\",\n",
    "                    \"face_node_connectivity\": \"face_node_connectivity\",\n",
    "                    \"face_coordinates\": \"face_lon face_lat\",\n",
    "                },\n",
    "            )\n",
    "        )\n",
    "    )"
   ]
  },
  {
   "cell_type": "code",
   "execution_count": null,
   "id": "15",
   "metadata": {},
   "outputs": [],
   "source": [
    "grid_ds = target_grid.pipe(grid_from_xdggs)\n",
    "uxgrid = ux.Grid.from_dataset(grid_ds, source_grid_spec=\"HEALPix\")\n",
    "uxgrid.to_xarray()"
   ]
  },
  {
   "cell_type": "code",
   "execution_count": null,
   "id": "16",
   "metadata": {},
   "outputs": [],
   "source": [
    "uds = ux.UxDataset(uxgrid=uxgrid).assign_coords(\n",
    "    target_grid[\"cell_ids\"].rename({\"cells\": \"n_face\"}).coords,\n",
    ")\n",
    "uds.to_xarray()"
   ]
  },
  {
   "cell_type": "code",
   "execution_count": null,
   "id": "17",
   "metadata": {},
   "outputs": [],
   "source": [
    "%%time\n",
    "remapped = (\n",
    "    arr.remap.inverse_distance_weighted(uds.uxgrid)\n",
    "    .assign_coords(cell_ids=uds[\"cell_ids\"])\n",
    "    .to_xarray()\n",
    "    .dggs.decode()\n",
    ")\n",
    "remapped"
   ]
  },
  {
   "cell_type": "code",
   "execution_count": null,
   "id": "18",
   "metadata": {},
   "outputs": [],
   "source": [
    "remapped.dggs.explore()"
   ]
  },
  {
   "cell_type": "markdown",
   "id": "19",
   "metadata": {},
   "source": [
    "## rectilinear: `air-temperature`"
   ]
  },
  {
   "cell_type": "code",
   "execution_count": null,
   "id": "20",
   "metadata": {},
   "outputs": [],
   "source": [
    "ds = xr.tutorial.open_dataset(\"air_temperature\", chunks={\"time\": 20})\n",
    "ds"
   ]
  },
  {
   "cell_type": "code",
   "execution_count": null,
   "id": "21",
   "metadata": {},
   "outputs": [],
   "source": [
    "upscaled = ds.interp(\n",
    "    lon=np.linspace(200, 330, 1060), lat=np.linspace(15, 75, 500)\n",
    ").assign_coords(lon=lambda ds: (ds[\"lon\"] + 180) % 360 - 180)\n",
    "upscaled"
   ]
  },
  {
   "cell_type": "code",
   "execution_count": null,
   "id": "22",
   "metadata": {},
   "outputs": [],
   "source": [
    "level = 7\n",
    "lon = astropy.coordinates.Longitude(\n",
    "    [200, 225, 250, 275, 300, 330, 330, 300, 275, 250, 225, 200], unit=\"degree\"\n",
    ")\n",
    "lat = astropy.coordinates.Latitude(\n",
    "    [15, 15, 15, 15, 15, 15, 75, 75, 75, 75, 75, 75], unit=\"degree\"\n",
    ")\n",
    "cell_ids, _, _ = cdshealpix.nested.polygon_search(lon, lat, depth=level, flat=True)\n",
    "\n",
    "target_grid = (\n",
    "    xr.Dataset(coords={\"cell_ids\": (\"cells\", cell_ids)})\n",
    "    .dggs.decode({\"grid_name\": \"healpix\", \"level\": level, \"indexing_scheme\": \"nested\"})\n",
    "    .dggs.assign_latlon_coords()\n",
    ")\n",
    "target_grid"
   ]
  },
  {
   "cell_type": "code",
   "execution_count": null,
   "id": "23",
   "metadata": {},
   "outputs": [],
   "source": [
    "input_ds = ux.UxDataset.from_structured(upscaled)\n",
    "input_ds.to_xarray()"
   ]
  },
  {
   "cell_type": "code",
   "execution_count": null,
   "id": "24",
   "metadata": {},
   "outputs": [],
   "source": [
    "uxgrid = ux.Grid.from_dataset(\n",
    "    target_grid.pipe(grid_from_xdggs), source_grid_spec=\"HEALPix\"\n",
    ")\n",
    "uxgrid.to_xarray()"
   ]
  },
  {
   "cell_type": "code",
   "execution_count": null,
   "id": "25",
   "metadata": {},
   "outputs": [],
   "source": [
    "arr = input_ds[\"air\"]\n",
    "arr.to_xarray()"
   ]
  },
  {
   "cell_type": "code",
   "execution_count": null,
   "id": "26",
   "metadata": {},
   "outputs": [],
   "source": [
    "regridded = (\n",
    "    input_ds[\"air\"]\n",
    "    .isel(time=slice(None, 100))\n",
    "    .remap.inverse_distance_weighted(uxgrid)\n",
    "    .rename({\"n_face\": \"cells\"})\n",
    "    .assign_coords(target_grid.coords)\n",
    "    .to_xarray()\n",
    "    # data is not contiguous\n",
    "    .chunk()\n",
    "    .compute()\n",
    ")\n",
    "regridded"
   ]
  },
  {
   "cell_type": "code",
   "execution_count": null,
   "id": "27",
   "metadata": {},
   "outputs": [],
   "source": [
    "regridded.dggs.explore(alpha=0.8)"
   ]
  },
  {
   "cell_type": "markdown",
   "id": "28",
   "metadata": {},
   "source": [
    "## curvilinear: `rasm`"
   ]
  },
  {
   "cell_type": "code",
   "execution_count": null,
   "id": "29",
   "metadata": {},
   "outputs": [],
   "source": [
    "ds = xr.tutorial.open_dataset(\"rasm\", chunks={\"time\": 8}).assign_coords(\n",
    "    xc=lambda ds: ds[\"xc\"].assign_attrs(standard_name=\"longitude\"),\n",
    "    yc=lambda ds: ds[\"yc\"].assign_attrs(standard_name=\"latitude\"),\n",
    ")\n",
    "ds"
   ]
  },
  {
   "cell_type": "code",
   "execution_count": null,
   "id": "30",
   "metadata": {},
   "outputs": [],
   "source": [
    "def curvilinear_to_grid(ds):\n",
    "    points = (\n",
    "        ds.stack(n_node=[\"y\", \"x\"])\n",
    "        .drop_indexes([\"n_node\", \"x\", \"y\"])\n",
    "        .drop_vars([\"x\", \"y\"])\n",
    "        .pipe(lambda ds: ds.merge(ds[[\"xc\", \"yc\"]].compute()))\n",
    "    )\n",
    "\n",
    "    coords = [points[\"xc\"].data, points[\"yc\"].data]\n",
    "    return ux.UxDataset(\n",
    "        uxgrid=ux.Grid.from_points(coords),\n",
    "        data_vars={k: v.variable for k, v in points.data_vars.items()},\n",
    "        coords=points.drop_vars([\"xc\", \"yc\"]).coords,\n",
    "    )"
   ]
  },
  {
   "cell_type": "code",
   "execution_count": null,
   "id": "31",
   "metadata": {},
   "outputs": [],
   "source": [
    "input_ds = curvilinear_to_grid(ds)\n",
    "input_ds.to_xarray()"
   ]
  },
  {
   "cell_type": "code",
   "execution_count": null,
   "id": "32",
   "metadata": {},
   "outputs": [],
   "source": [
    "fig, ax = plt.subplots(subplot_kw={\"projection\": ccrs.NorthPolarStereo()})\n",
    "ds[\"Tair\"].isel(time=1).plot.pcolormesh(\n",
    "    x=\"xc\", y=\"yc\", ax=ax, transform=ccrs.PlateCarree()\n",
    ")"
   ]
  },
  {
   "cell_type": "code",
   "execution_count": null,
   "id": "33",
   "metadata": {},
   "outputs": [],
   "source": [
    "level = 10\n",
    "lon = astropy.coordinates.Longitude(0, unit=\"degree\")\n",
    "lat = astropy.coordinates.Latitude(90, unit=\"degree\")\n",
    "cell_ids, _, _ = cdshealpix.nested.cone_search(\n",
    "    lon, lat, depth=level, flat=True, radius=(90 - 16.5) << astropy.units.degree\n",
    ")\n",
    "\n",
    "target_grid = (\n",
    "    xr.Dataset(coords={\"cell_ids\": (\"cells\", cell_ids)})\n",
    "    .dggs.decode({\"grid_name\": \"healpix\", \"level\": level, \"indexing_scheme\": \"nested\"})\n",
    "    .dggs.assign_latlon_coords()\n",
    ")\n",
    "target_grid"
   ]
  },
  {
   "cell_type": "code",
   "execution_count": null,
   "id": "34",
   "metadata": {},
   "outputs": [],
   "source": [
    "uxgrid = ux.Grid.from_dataset(\n",
    "    target_grid.pipe(grid_from_xdggs), source_grid_spec=\"HEALPix\"\n",
    ")\n",
    "uxgrid.to_xarray()"
   ]
  },
  {
   "cell_type": "code",
   "execution_count": null,
   "id": "35",
   "metadata": {},
   "outputs": [],
   "source": [
    "regridded = (\n",
    "    input_ds[\"Tair\"]\n",
    "    .isel(time=slice(None, 100))\n",
    "    .rename({\"n_node\": \"n_face\"})\n",
    "    .remap.nearest_neighbor(uxgrid)\n",
    "    .rename({\"n_face\": \"cells\"})\n",
    "    .assign_coords(target_grid.coords)\n",
    "    .to_xarray()\n",
    "    # data needs to be contiguous\n",
    "    .chunk()\n",
    "    .compute()\n",
    ")\n",
    "regridded"
   ]
  },
  {
   "cell_type": "code",
   "execution_count": null,
   "id": "36",
   "metadata": {},
   "outputs": [],
   "source": [
    "regridded.dggs.explore(alpha=0.8)"
   ]
  }
 ],
 "metadata": {
  "language_info": {
   "codemirror_mode": {
    "name": "ipython",
    "version": 3
   },
   "file_extension": ".py",
   "mimetype": "text/x-python",
   "name": "python",
   "nbconvert_exporter": "python",
   "pygments_lexer": "ipython3",
   "version": "3.12.10"
  }
 },
 "nbformat": 4,
 "nbformat_minor": 5
}
