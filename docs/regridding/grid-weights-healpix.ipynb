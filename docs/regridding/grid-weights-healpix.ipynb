{
 "cells": [
  {
   "cell_type": "markdown",
   "id": "0",
   "metadata": {},
   "source": [
    "# Regridding using the `grid-weights` library"
   ]
  },
  {
   "cell_type": "code",
   "execution_count": null,
   "id": "1",
   "metadata": {},
   "outputs": [],
   "source": [
    "import astropy.coordinates\n",
    "import cdshealpix.nested\n",
    "import cf_xarray  # noqa: F401\n",
    "import geoarrow.rust.core as geoarrow\n",
    "import grid_weights.api as grid_weights\n",
    "import numpy as np\n",
    "import xarray as xr\n",
    "import xdggs  # noqa: F401\n",
    "from grid_indexing import infer_cell_geometries\n",
    "\n",
    "xr.set_options(keep_attrs=True, display_expand_attrs=False, display_expand_data=False)"
   ]
  },
  {
   "cell_type": "code",
   "execution_count": null,
   "id": "2",
   "metadata": {},
   "outputs": [],
   "source": [
    "from distributed import Client\n",
    "\n",
    "client = Client()\n",
    "client"
   ]
  },
  {
   "cell_type": "markdown",
   "id": "3",
   "metadata": {},
   "source": [
    "## rectilinear grid: the `air_temperature` example dataset"
   ]
  },
  {
   "cell_type": "code",
   "execution_count": null,
   "id": "4",
   "metadata": {},
   "outputs": [],
   "source": [
    "ds = xr.tutorial.open_dataset(\"air_temperature\", chunks={\"time\": 20}).isel(\n",
    "    time=slice(None, 400)\n",
    ")\n",
    "ds"
   ]
  },
  {
   "cell_type": "code",
   "execution_count": null,
   "id": "5",
   "metadata": {},
   "outputs": [],
   "source": [
    "upscaled = (\n",
    "    ds.interp(lon=np.linspace(200, 330, 1060), lat=np.linspace(15, 76, 500))\n",
    "    .assign_coords(lon=lambda ds: (ds[\"lon\"] + 180) % 360 - 180)\n",
    "    .chunk({\"lon\": 530, \"lat\": 250})\n",
    ")\n",
    "upscaled"
   ]
  },
  {
   "cell_type": "code",
   "execution_count": null,
   "id": "6",
   "metadata": {},
   "outputs": [],
   "source": [
    "level = 7\n",
    "lon = astropy.coordinates.Longitude(\n",
    "    [200, 225, 250, 275, 300, 330, 330, 300, 275, 250, 225, 200], unit=\"degree\"\n",
    ")\n",
    "lat = astropy.coordinates.Latitude(\n",
    "    [15, 15, 15, 15, 15, 15, 75, 75, 75, 75, 75, 75], unit=\"degree\"\n",
    ")\n",
    "cell_ids, _, _ = cdshealpix.nested.polygon_search(lon, lat, depth=level, flat=True)\n",
    "\n",
    "target_grid = (\n",
    "    xr.Dataset(coords={\"cell_ids\": (\"cells\", cell_ids)})\n",
    "    .dggs.decode({\"grid_name\": \"healpix\", \"level\": level, \"indexing_scheme\": \"nested\"})\n",
    "    .dggs.assign_latlon_coords()\n",
    ")\n",
    "target_grid"
   ]
  },
  {
   "cell_type": "code",
   "execution_count": null,
   "id": "7",
   "metadata": {},
   "outputs": [],
   "source": [
    "source_geoms_ = geoarrow.to_shapely(infer_cell_geometries(upscaled)).reshape(\n",
    "    (1060, 500)\n",
    ")\n",
    "source_geoms = xr.DataArray(\n",
    "    source_geoms_, dims=[\"lon\", \"lat\"], coords=upscaled[[\"lon\", \"lat\"]].coords\n",
    ").chunk({\"lon\": 530, \"lat\": 250})\n",
    "source_geoms"
   ]
  },
  {
   "cell_type": "code",
   "execution_count": null,
   "id": "8",
   "metadata": {},
   "outputs": [],
   "source": [
    "target_geoms = target_grid.dggs.cell_boundaries().chunk({\"cells\": 5100}).dggs.decode()\n",
    "target_geoms"
   ]
  },
  {
   "cell_type": "code",
   "execution_count": null,
   "id": "9",
   "metadata": {},
   "outputs": [],
   "source": [
    "%%time\n",
    "algorithms = grid_weights.Algorithms.by_variable(upscaled, default=\"conservative\")\n",
    "indexed_cells = grid_weights.create_index(source_geoms).query(\n",
    "    target_geoms, methods=algorithms.unique()\n",
    ")\n",
    "weights = grid_weights.weights(source_geoms, target_geoms, indexed_cells)\n",
    "weights"
   ]
  },
  {
   "cell_type": "code",
   "execution_count": null,
   "id": "10",
   "metadata": {},
   "outputs": [],
   "source": [
    "%%time\n",
    "regridded = algorithms.regrid(upscaled, weights)\n",
    "regridded"
   ]
  },
  {
   "cell_type": "code",
   "execution_count": null,
   "id": "11",
   "metadata": {},
   "outputs": [],
   "source": [
    "%%time\n",
    "computed = regridded.compute()\n",
    "computed"
   ]
  },
  {
   "cell_type": "code",
   "execution_count": null,
   "id": "12",
   "metadata": {},
   "outputs": [],
   "source": [
    "weights_ = weights.compute()\n",
    "weights_"
   ]
  },
  {
   "cell_type": "code",
   "execution_count": null,
   "id": "13",
   "metadata": {},
   "outputs": [],
   "source": [
    "sparse = (\n",
    "    weights_.rename_dims({\"target_cells\": \"cells\"})\n",
    "    .rename_vars({\"target_cell_ids\": \"cell_ids\"})\n",
    "    .sel(cell_ids=46578)\n",
    ")\n",
    "dense = sparse.assign(\n",
    "    conservative=lambda ds: ds[\"conservative\"].copy(\n",
    "        data=ds[\"conservative\"].data.todense()\n",
    "    )\n",
    ")\n",
    "\n",
    "display(sparse, dense)"
   ]
  },
  {
   "cell_type": "code",
   "execution_count": null,
   "id": "14",
   "metadata": {},
   "outputs": [],
   "source": [
    "computed[\"air\"].dggs.explore(alpha=0.8)"
   ]
  }
 ],
 "metadata": {
  "language_info": {
   "codemirror_mode": {
    "name": "ipython",
    "version": 3
   },
   "file_extension": ".py",
   "mimetype": "text/x-python",
   "name": "python",
   "nbconvert_exporter": "python",
   "pygments_lexer": "ipython3",
   "version": "3.12.10"
  }
 },
 "nbformat": 4,
 "nbformat_minor": 5
}
